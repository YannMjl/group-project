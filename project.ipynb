{
 "cells": [
  {
   "cell_type": "code",
   "execution_count": null,
   "id": "interim-caution",
   "metadata": {},
   "outputs": [],
   "source": [
    "#---------------------------------------------------------------------------------#\n",
    "# Graduate Program in Software                                                    #\n",
    "# SEIS 763: Machine Learning                                                      #\n",
    "# Group project                                                                   #\n",
    "# Authors: Yann Mulonda -- David Vedvick -- Jeevanlal A M Nair -- Jacob Sevening  #\n",
    "#---------------------------------------------------------------------------------#\n",
    "import numpy as np\n",
    "import pandas as pd\n",
    "from scipy.special import expit\n",
    "from sklearn import linear_model\n",
    "import matplotlib.pyplot as plot\n",
    "from sklearn import preprocessing\n",
    "from sklearn.metrics import confusion_matrix, mean_squared_error, r2_score\n",
    "from sklearn.linear_model import Lasso, LassoLarsCV\n",
    "from sklearn.impute import SimpleImputer\n",
    "from pandas.plotting import scatter_matrix\n",
    "from sklearn.model_selection import cross_validate\n",
    "from sklearn.model_selection import cross_val_score\n",
    "from sklearn.model_selection import train_test_split\n",
    "from sklearn import svm"
   ]
  },
  {
   "cell_type": "code",
   "execution_count": null,
   "id": "hawaiian-albuquerque",
   "metadata": {},
   "outputs": [],
   "source": [
    "# get patients data from csv file\n",
    "# set header to 0 because to exclude the header column\n",
    "cellDNA = pd.read_csv(\"./healthcare_data.csv\")\n",
    "# show cell DNA data\n",
    "cellDNA.info()"
   ]
  },
  {
   "cell_type": "code",
   "execution_count": null,
   "metadata": {},
   "outputs": [],
   "source": [
    "# show data info\n",
    "cellDNA.describe()"
   ]
  },
  {
   "cell_type": "code",
   "execution_count": null,
   "metadata": {},
   "outputs": [],
   "source": [
    "# show top 10 rows\n",
    "cellDNA.head(10)"
   ]
  },
  {
   "cell_type": "code",
   "execution_count": null,
   "metadata": {},
   "outputs": [],
   "source": [
    "cellDNA.hist(bins=20, figsize=(16,8))"
   ]
  },
  {
   "cell_type": "code",
   "execution_count": null,
   "metadata": {},
   "outputs": [],
   "source": [
    "# get the Y : depedent\n",
    "cellDNA_Y = cellDNA[\"stroke\"]\n",
    "# get the X numeric dtat\n",
    "cellDNA_X_numeric = cellDNA[[\"age\", \"avg_glucose_level\", \"bmi\"]]\n",
    "# get X non data\n",
    "cellDNA_X_non_numeric = cellDNA[[\"gender\", \"work_type\", \"Residence_type\", \"smoking_status\", \"ever_married\"]]\n",
    "# get X binary\n",
    "cellDNA_X_binary = cellDNA[[\"hypertension\", \"heart_disease\"]]\n",
    "# plot not numeric data\n",
    "attributes = [\"age\", \"hypertension\", \"heart_disease\", \"avg_glucose_level\", \"bmi\", \"stroke\"]\n",
    "scatter_matrix(cellDNA[attributes], figsize = (16,8))"
   ]
  },
  {
   "cell_type": "code",
   "execution_count": null,
   "metadata": {},
   "outputs": [],
   "source": [
    "# standardized numeric the data\n",
    "cellDNA_X_numeric_standard = preprocessing.scale(cellDNA_X_numeric, axis=0)\n",
    "print(cellDNA_X_numeric_standard)"
   ]
  },
  {
   "cell_type": "code",
   "execution_count": null,
   "metadata": {},
   "outputs": [],
   "source": [
    "# standardized non numeric the data\n",
    "cellDNA_X_non_numeric_stadard = cellDNA_X_non_numeric.select_dtypes(include=[object]).copy()\n",
    "cellDNA_X_non_numeric_stadard.head()"
   ]
  },
  {
   "cell_type": "code",
   "execution_count": null,
   "metadata": {},
   "outputs": [],
   "source": [
    "cellDNA_X_non_numeric_stadard_onehot = cellDNA_X_non_numeric_stadard.copy()\n",
    "cellDNA_X_non_numeric_stadard_onehot = pd.get_dummies(cellDNA_X_non_numeric_stadard, columns=[\"gender\", \"work_type\", \"Residence_type\", \"smoking_status\", \"ever_married\"], prefix = [\"gender\", \"work_type\", \"Residence_type\", \"smoking_status\", \"ever_married\"], drop_first = True)\n",
    "print(cellDNA_X_non_numeric_stadard_onehot)"
   ]
  },
  {
   "cell_type": "code",
   "execution_count": null,
   "metadata": {},
   "outputs": [],
   "source": [
    "# standardized non numeric the data\n",
    "cellDNA_X_binary_standard_onehot = pd.get_dummies(cellDNA_X_binary, columns= [\"hypertension\", \"heart_disease\"], prefix = [\"hypertension\", \"heart_disease\"], drop_first = True)\n",
    "print(cellDNA_X_binary_standard_onehot)"
   ]
  },
  {
   "cell_type": "code",
   "execution_count": null,
   "metadata": {},
   "outputs": [],
   "source": [
    "# convert the numer data to data frame\n",
    "cellDNA_X_numeric_standard_dataframe = pd.DataFrame(cellDNA_X_numeric_standard)\n",
    "cellDNA_X_numeric_standard_dataframe.columns = [\"age\", \"avg_glucose_level\", \"bmi\"]\n",
    "print(cellDNA_X_numeric_standard_dataframe.head())"
   ]
  },
  {
   "cell_type": "code",
   "execution_count": null,
   "metadata": {},
   "outputs": [],
   "source": [
    "# put all the X data back to together as one dataframe\n",
    "cellDNA_X_All = pd.concat([cellDNA_X_numeric_standard_dataframe, cellDNA_X_non_numeric_stadard_onehot, cellDNA_X_binary_standard_onehot], axis = 1)\n",
    "print(cellDNA_X_All)"
   ]
  },
  {
   "cell_type": "code",
   "execution_count": null,
   "metadata": {},
   "outputs": [],
   "source": [
    "# Impute missing inputs using the simpleImputer method\n",
    "imp = SimpleImputer(missing_values=np.nan, strategy='mean')\n",
    "cellDNA_X_All = imp.fit_transform(cellDNA_X_All)\n"
   ]
  },
  {
   "cell_type": "code",
   "execution_count": null,
   "metadata": {},
   "outputs": [],
   "source": [
    "# Building models \n",
    "# next, let's train the model using the training sets\n",
    "X_train, X_test, y_train, y_test = train_test_split(cellDNA_X_All, cellDNA_Y, train_size=.6, random_state=4331)\n",
    "#---------------------------------------------------------------------#\n",
    "# 1. let's create linear regression object\n",
    "#---------------------------------------------------------------------#\n",
    "def linearModel(y_value, x_value):\n",
    "    regr_object = linear_model.LinearRegression()\n",
    "    # next, let's train the model using the training sets\n",
    "    trainedmodel = regr_object.fit(x_value, y_value)\n",
    "    # the regression coefficients (thetas)\n",
    "    yint = regr_object.intercept_\n",
    "    print(\"Number of columns\", len(cellDNA_X_All), sep=' = ')\n",
    "    print(\"Y intercept: \", yint, sep=' \\n')\n",
    "    # showing the interpretation of the coefiicients\n",
    "    coefficients = regr_object.coef_\n",
    "    print(\"Number of coefficients: \", len(coefficients))\n",
    "    print(\"Coefficients: \", coefficients, sep='\\n')\n"
   ]
  },
  {
   "cell_type": "code",
   "execution_count": null,
   "metadata": {},
   "outputs": [],
   "source": [
    "# caaling function for train value\n",
    "linearModel(y_train, X_train)"
   ]
  },
  {
   "cell_type": "code",
   "execution_count": null,
   "metadata": {},
   "outputs": [],
   "source": [
    "# based on the coefficients, we \n",
    "#Let’s begin the search with a box plot.\n",
    "get_ipython().run_line_magic('matplotlib', 'inline')\n",
    "cellDNA_X_numeric_standard_dataframe.plot.box(figsize=(18,4))"
   ]
  },
  {
   "cell_type": "code",
   "execution_count": null,
   "metadata": {},
   "outputs": [],
   "source": [
    "#---------------------------------------------------------------------#\n",
    "# 2. let's create linear regression object \n",
    "# considering corss validation - 10 \n",
    "#---------------------------------------------------------------------#\n",
    "def lassModel(y_value, x_value):\n",
    "    lasso_cv_model = LassoLarsCV(eps=0.1, max_n_alphas=100, cv=10)\n",
    "    # next, let's train the model using the training sets\n",
    "    trainedmodel = lasso_cv_model.fit(x_value, y_value)\n",
    "    # the regression coefficients (thetas)\n",
    "    yint_lasso = lasso_cv_model.intercept_\n",
    "    coefficients_lasso = lasso_cv_model.coef_\n",
    "    # let's get the prediction\n",
    "    predictions = lasso_cv_model.predict(x_value)\n",
    "    RMSE = np.sqrt(mean_squared_error(y_value, predictions))\n",
    "    r2 = r2_score(y_value, predictions)\n",
    "    model_result = {\n",
    "        \"yint_lasso\": yint_lasso,\n",
    "        \"coefficients_lasso\": coefficients_lasso,\n",
    "        \"predictions\": predictions,\n",
    "        \"RMSE\": RMSE,\n",
    "        \"r2\": r2\n",
    "        }\n",
    "    return model_result"
   ]
  },
  {
   "cell_type": "code",
   "execution_count": null,
   "metadata": {},
   "outputs": [],
   "source": [
    "def svmModel(y_train, y_test, x_train, x_test):\n",
    "    model = svm.SVC(\n",
    "        gamma='auto',\n",
    "        kernel='rbf',\n",
    "        C=10,\n",
    "        class_weight={0:1, 1:95})\n",
    "    model.fit(x_train, y_train)\n",
    "    y_predict = model.predict(x_test)\n",
    "\n",
    "    RMSE = np.sqrt(mean_squared_error(y_test, y_predict))\n",
    "    r2 = r2_score(y_test, y_predict)\n",
    "    tn, fp, fn, tp = confusion_matrix(y_test, y_predict).ravel()\n",
    "    model_result = {\n",
    "        \"matrix\": confusion_matrix(y_test, y_predict),\n",
    "        \"RMSE\": RMSE,\n",
    "        \"r2\": r2,\n",
    "        \"accuracy\": (tp + tn) / (tp + tn + fp + fn),\n",
    "        \"recall\": (tp) / (tp + fn),\n",
    "        \"precision\": (tp) / (tp + fp),\n",
    "    }\n",
    "\n",
    "    return model_result"
   ]
  },
  {
   "cell_type": "code",
   "execution_count": null,
   "metadata": {},
   "outputs": [],
   "source": [
    "# calling the function for test value\n",
    "lassModel(y_test, X_test)"
   ]
  },
  {
   "cell_type": "code",
   "execution_count": null,
   "metadata": {},
   "outputs": [],
   "source": [
    "# caaling function for train value\n",
    "lassModel(y_train, X_train)"
   ]
  },
  {
   "cell_type": "code",
   "execution_count": null,
   "metadata": {},
   "outputs": [],
   "source": [
    "# caaling function for value\n",
    "lassModel(cellDNA_Y, cellDNA_X_All)"
   ]
  },
  {
   "cell_type": "code",
   "execution_count": null,
   "metadata": {},
   "outputs": [],
   "source": [
    "svmModel(y_train, y_test, X_train, X_test)"
   ]
  },
  {
   "cell_type": "code",
   "execution_count": null,
   "metadata": {},
   "outputs": [],
   "source": []
  }
 ],
 "metadata": {
  "kernelspec": {
   "name": "python385jvsc74a57bd031f2aee4e71d21fbe5cf8b01ff0e069b9275f58929596ceb00d14d90e3e16cd6",
   "display_name": "Python 3.8.5 64-bit"
  },
  "language_info": {
   "codemirror_mode": {
    "name": "ipython",
    "version": 3
   },
   "file_extension": ".py",
   "mimetype": "text/x-python",
   "name": "python",
   "nbconvert_exporter": "python",
   "pygments_lexer": "ipython3",
   "version": "3.8.5"
  },
  "metadata": {
   "interpreter": {
    "hash": "31f2aee4e71d21fbe5cf8b01ff0e069b9275f58929596ceb00d14d90e3e16cd6"
   }
  }
 },
 "nbformat": 4,
 "nbformat_minor": 5
}