{
 "cells": [
  {
   "cell_type": "code",
   "execution_count": null,
   "id": "interim-caution",
   "metadata": {},
   "outputs": [],
   "source": [
    "#---------------------------------------------------------------------------------#\n",
    "# Graduate Program in Software                                                    #\n",
    "# SEIS 763: Machine Learning                                                      #\n",
    "# Group project                                                                   #\n",
    "# Authors: \n",
    "# -- Yann Mulonda   \n",
    "# -- David Vdvick\n",
    "# --\n",
    "# --                                                                              #\n",
    "#---------------------------------------------------------------------------------#\n",
    "import numpy as np\n",
    "import pandas as pd\n",
    "from scipy.special import expit\n",
    "from sklearn import linear_model\n",
    "import matplotlib.pyplot as plot\n",
    "from sklearn import preprocessing\n",
    "from sklearn.linear_model import Lasso\n",
    "from pandas.plotting import scatter_matrix\n",
    "from sklearn.model_selection import cross_validate\n",
    "from sklearn.model_selection import cross_val_score\n",
    "from sklearn.model_selection import train_test_split\n",
    "from sklearn import svm\n",
    "from sklearn.metrics import confusion_matrix, r2_score, mean_squared_error\n",
    "from sklearn.impute import SimpleImputer"
   ]
  },
  {
   "cell_type": "code",
   "execution_count": null,
   "id": "hawaiian-albuquerque",
   "metadata": {},
   "outputs": [],
   "source": [
    "# get patients data from csv file\n",
    "# set header to 0 because to exclude the header column\n",
    "cellDNA = pd.read_csv(\"./healthcare_data.csv\")\n",
    "# show cell DNA data\n",
    "cellDNA.info()"
   ]
  },
  {
   "cell_type": "code",
   "execution_count": null,
   "metadata": {},
   "outputs": [],
   "source": [
    "# show data info\n",
    "cellDNA.describe()"
   ]
  },
  {
   "cell_type": "code",
   "execution_count": null,
   "metadata": {},
   "outputs": [],
   "source": [
    "# show top 10 rows\n",
    "cellDNA.head(10)"
   ]
  },
  {
   "cell_type": "code",
   "execution_count": null,
   "metadata": {},
   "outputs": [],
   "source": [
    "cellDNA.hist(bins=20, figsize=(16,8))"
   ]
  },
  {
   "cell_type": "code",
   "execution_count": null,
   "metadata": {},
   "outputs": [],
   "source": [
    "# get the Y : depedent\n",
    "cellDNA_Y = cellDNA[\"stroke\"]\n",
    "\n",
    "# get the X numeric dtat\n",
    "cellDNA_X_numeric = cellDNA[[\"age\", \"avg_glucose_level\", \"bmi\"]]\n",
    "\n",
    "# get X non data\n",
    "cellDNA_X_non_numeric = cellDNA[[\"gender\", \"work_type\", \"Residence_type\", \"smoking_status\", \"ever_married\"]]\n",
    "\n",
    "# get X binary\n",
    "cellDNA_X_binary = cellDNA[[\"hypertension\", \"heart_disease\"]]\n",
    "\n",
    "# plot not numeric data\n",
    "attributes = [\"age\", \"hypertension\", \"heart_disease\", \"avg_glucose_level\", \"bmi\", \"stroke\"]\n",
    "scatter_matrix(cellDNA[attributes], figsize = (16,8))"
   ]
  },
  {
   "cell_type": "code",
   "execution_count": null,
   "metadata": {},
   "outputs": [],
   "source": [
    "# standardized numeric the data\n",
    "cellDNA_X_numeric_standard = preprocessing.scale(cellDNA_X_numeric, axis=0)\n",
    "print(cellDNA_X_numeric_standard)"
   ]
  },
  {
   "cell_type": "code",
   "execution_count": null,
   "metadata": {},
   "outputs": [],
   "source": [
    "# get mean of numeric data\n",
    "# mean_numeric_data = cellDNA_X_numeric_standard.mean()\n",
    "# print(\"Mean is\", mean_numeric_data, sep= \" : \")"
   ]
  },
  {
   "cell_type": "code",
   "execution_count": null,
   "metadata": {},
   "outputs": [],
   "source": [
    "# standardized non numeric the data\n",
    "cellDNA_X_non_numeric_stadard = cellDNA_X_non_numeric.select_dtypes(include=[object]).copy()\n",
    "cellDNA_X_non_numeric_stadard.head()"
   ]
  },
  {
   "cell_type": "code",
   "execution_count": null,
   "metadata": {},
   "outputs": [],
   "source": [
    "cellDNA_X_non_numeric_stadard_onehot = cellDNA_X_non_numeric_stadard.copy()\n",
    "cellDNA_X_non_numeric_stadard_onehot = pd.get_dummies(cellDNA_X_non_numeric_stadard, columns=[\"gender\", \"work_type\", \"Residence_type\", \"smoking_status\", \"ever_married\"], prefix = [\"gender\", \"work_type\", \"Residence_type\", \"smoking_status\", \"ever_married\"], drop_first = True)\n",
    "\n",
    "print(cellDNA_X_non_numeric_stadard_onehot)"
   ]
  },
  {
   "cell_type": "code",
   "execution_count": null,
   "metadata": {},
   "outputs": [],
   "source": [
    "# standardized non numeric the data\n",
    "cellDNA_X_binary_standard_onehot = pd.get_dummies(cellDNA_X_binary, columns= [\"hypertension\", \"heart_disease\"], prefix = [\"hypertension\", \"heart_disease\"], drop_first = True)\n",
    "\n",
    "print(cellDNA_X_binary_standard_onehot)"
   ]
  },
  {
   "cell_type": "code",
   "execution_count": null,
   "metadata": {},
   "outputs": [],
   "source": [
    "# convert the numer data to data frame\n",
    "cellDNA_X_numeric_standard_dataframe = pd.DataFrame(cellDNA_X_numeric_standard)\n",
    "cellDNA_X_numeric_standard_dataframe.columns = [\"age\", \"avg_glucose_level\", \"bmi\"]\n",
    "print(cellDNA_X_numeric_standard_dataframe.head())"
   ]
  },
  {
   "cell_type": "code",
   "execution_count": null,
   "metadata": {},
   "outputs": [],
   "source": [
    "# put all the X data back to together as one dataframe\n",
    "cellDNA_X_All = pd.concat([cellDNA_X_numeric_standard_dataframe, cellDNA_X_non_numeric_stadard_onehot, cellDNA_X_binary_standard_onehot], axis = 1)\n",
    "\n",
    "print(cellDNA_X_All)"
   ]
  },
  {
   "cell_type": "code",
   "execution_count": null,
   "metadata": {},
   "outputs": [],
   "source": [
    "# Impute missing inputs\n",
    "\n",
    "imp = SimpleImputer(missing_values=np.nan, strategy='mean')\n",
    "cellDNA_X_All = imp.fit_transform(cellDNA_X_All)\n",
    "print(cellDNA_X_All)"
   ]
  },
  {
   "cell_type": "code",
   "execution_count": null,
   "metadata": {},
   "outputs": [],
   "source": [
    "def print_metrics(y_true, y_predict):\n",
    "    print(f'R2 Score: {r2_score(y_true, y_predict)}')\n",
    "    print(f'MSE: {mean_squared_error(y_true, y_predict)}')\n",
    "    \n",
    "    tn, fp, fn, tp = confusion_matrix(y_true, y_predict).ravel()\n",
    "    accuracy = (tp + tn) / (tp + tn + fp + fn)\n",
    "    recall = (tp) / (tp + fn)\n",
    "    precision = (tp) / (tp + fp)\n",
    "    print(f'Accuracy: {accuracy}')\n",
    "    print(f'Recall: {recall}')\n",
    "    print(f'Precision: {precision}')\n",
    "    print()\n",
    "\n",
    "X_train, X_test, y_train, y_test = train_test_split(cellDNA_X_All, cellDNA_Y, test_size=.4)\n",
    "model = svm.SVC(gamma='auto', kernel='rbf', C=10, random_state=4331)\n",
    "model.fit(X_train, y_train)\n",
    "y_predict = model.predict(X_test)\n",
    "\n",
    "print_metrics(y_test, y_predict)"
   ]
  },
  {
   "cell_type": "code",
   "execution_count": null,
   "metadata": {},
   "outputs": [],
   "source": []
  }
 ],
 "metadata": {
  "kernelspec": {
   "name": "python3",
   "display_name": "Python 3",
   "language": "python"
  },
  "language_info": {
   "codemirror_mode": {
    "name": "ipython",
    "version": 3
   },
   "file_extension": ".py",
   "mimetype": "text/x-python",
   "name": "python",
   "nbconvert_exporter": "python",
   "pygments_lexer": "ipython3",
   "version": "3.8.5"
  }
 },
 "nbformat": 4,
 "nbformat_minor": 5
}